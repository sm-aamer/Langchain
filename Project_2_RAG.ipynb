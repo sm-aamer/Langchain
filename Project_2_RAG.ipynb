{
  "nbformat": 4,
  "nbformat_minor": 0,
  "metadata": {
    "colab": {
      "provenance": [],
      "authorship_tag": "ABX9TyNcvnILtGJpYaMG0w0iuECy",
      "include_colab_link": true
    },
    "kernelspec": {
      "name": "python3",
      "display_name": "Python 3"
    },
    "language_info": {
      "name": "python"
    }
  },
  "cells": [
    {
      "cell_type": "markdown",
      "metadata": {
        "id": "view-in-github",
        "colab_type": "text"
      },
      "source": [
        "<a href=\"https://colab.research.google.com/github/sm-aamer/Langchain/blob/main/Project_2_RAG.ipynb\" target=\"_parent\"><img src=\"https://colab.research.google.com/assets/colab-badge.svg\" alt=\"Open In Colab\"/></a>"
      ]
    },
    {
      "cell_type": "code",
      "execution_count": 37,
      "metadata": {
        "collapsed": true,
        "id": "2smwDxcyIEiM"
      },
      "outputs": [],
      "source": [
        "!pip install langchain_community pypdf langchain_google_genai langchain_chroma -q"
      ]
    },
    {
      "cell_type": "code",
      "source": [
        "!pip install  --upgrade -q google-auth google-auth-oauthlib google-auth-httplib2  google-cloud"
      ],
      "metadata": {
        "collapsed": true,
        "id": "HFblaveWJ5Wy"
      },
      "execution_count": 38,
      "outputs": []
    },
    {
      "cell_type": "code",
      "source": [
        "from google.colab import userdata\n",
        "GOOGLE_API_KEY = userdata.get('GOOGLE_API_KEY')"
      ],
      "metadata": {
        "id": "q4giKVskXn_k"
      },
      "execution_count": 39,
      "outputs": []
    },
    {
      "cell_type": "code",
      "source": [
        "from langchain_community.document_loaders import PyPDFLoader\n",
        "\n",
        "loader = PyPDFLoader(\"/content/PIAIC_Course_Catalog_v1_1.pdf\")\n",
        "data = loader.load()"
      ],
      "metadata": {
        "id": "eyNrVV0hdmof"
      },
      "execution_count": 40,
      "outputs": []
    },
    {
      "cell_type": "code",
      "source": [
        "from langchain.text_splitter import RecursiveCharacterTextSplitter\n",
        "\n",
        "text_splitter = RecursiveCharacterTextSplitter(chunk_size=1000)\n",
        "docs = text_splitter.split_documents(data)\n",
        "\n",
        "\n",
        "print(\"total number of documents : \" ,len(docs))"
      ],
      "metadata": {
        "colab": {
          "base_uri": "https://localhost:8080/"
        },
        "id": "mQvmtQc2KmOa",
        "outputId": "7950c59f-f75a-4d85-a8a9-d7c4d77b9859"
      },
      "execution_count": 41,
      "outputs": [
        {
          "output_type": "stream",
          "name": "stdout",
          "text": [
            "total number of documents :  20\n"
          ]
        }
      ]
    },
    {
      "cell_type": "code",
      "source": [
        "import os\n",
        "os.environ[\"GOOGLE_APPLICATION_CREDENTIALS\"] = \"/content/cedar-calling-447105-m5-4e0bf896ba0f.json\""
      ],
      "metadata": {
        "id": "KzujE68LXKzB"
      },
      "execution_count": 42,
      "outputs": []
    },
    {
      "cell_type": "code",
      "source": [
        "from langchain_google_genai import GoogleGenerativeAIEmbeddings\n",
        "embedding_model = GoogleGenerativeAIEmbeddings(model=\"models/embedding-001\", google_api_key=GOOGLE_API_KEY)"
      ],
      "metadata": {
        "id": "lJKUyTmLjSef"
      },
      "execution_count": 43,
      "outputs": []
    },
    {
      "cell_type": "code",
      "source": [
        "vectorstore = Chroma.from_documents(documents=docs, embedding=embedding_model)\n",
        "retriever = vectorstore.as_retriever(search_type=\"similarity\", search_kwargs={\"k\": 10})"
      ],
      "metadata": {
        "id": "SqxIhveCYpv0"
      },
      "execution_count": 51,
      "outputs": []
    },
    {
      "cell_type": "code",
      "source": [
        "from langchain_chroma import Chroma\n",
        "vectorstores = Chroma(collection_name=\"rag-system\", embedding_function=embedding_model)"
      ],
      "metadata": {
        "id": "9krodZ7IjyQT"
      },
      "execution_count": 52,
      "outputs": []
    },
    {
      "cell_type": "code",
      "source": [
        "from langchain_google_genai import ChatGoogleGenerativeAI\n",
        "llm = ChatGoogleGenerativeAI(model = \"gemini-2.0-flash-exp\", temperature=0.3, max_token=1000)"
      ],
      "metadata": {
        "id": "B0u_c6HnlaFT",
        "collapsed": true
      },
      "execution_count": 53,
      "outputs": []
    },
    {
      "cell_type": "code",
      "source": [
        "from langchain.chains import create_retrieval_chain\n",
        "from langchain.chains.combine_documents import create_stuff_documents_chain\n",
        "from langchain_core.prompts import ChatPromptTemplate"
      ],
      "metadata": {
        "id": "iyva12pymVCJ"
      },
      "execution_count": 54,
      "outputs": []
    },
    {
      "cell_type": "code",
      "source": [
        "user_promt = (\n",
        "    \"You are a chatbot assistant for addressing the user query and answering.\"\n",
        "    \"Which will use the following pieces of retrieved data and reply in an expert manner.\"\n",
        "    \"Moreover, you will use a maximum of three sentences and keep the answer concise.\"\n",
        "    \"If you don't know the answer to the user question,\"\n",
        "    \"just say that you don't have sufficient information about it.\"\n",
        "    \"/n/n\"\n",
        "    \"{context}\"\n",
        ")\n",
        "prompt = ChatPromptTemplate.from_messages(\n",
        "    [(\"system\", user_promt), (\"human\", \"{input}\")]\n",
        ")"
      ],
      "metadata": {
        "id": "MxaFFa97nd3a"
      },
      "execution_count": 55,
      "outputs": []
    },
    {
      "cell_type": "code",
      "source": [
        "question_answering_chain = create_stuff_documents_chain(llm, prompt)\n",
        "rag_chain = create_retrieval_chain(retriever, question_answering_chain)"
      ],
      "metadata": {
        "id": "tFOUPEMQq2tq"
      },
      "execution_count": 56,
      "outputs": []
    },
    {
      "cell_type": "code",
      "source": [
        "from IPython.display import Markdown\n",
        "response = rag_chain.invoke({\"input\" : \"What is PIAIC Philosophy\"})\n",
        "display(Markdown(response[\"answer\"]))"
      ],
      "metadata": {
        "id": "TfaVgEUlsTO0",
        "colab": {
          "base_uri": "https://localhost:8080/",
          "height": 81
        },
        "outputId": "428f206c-4787-4991-8cd0-efa0ac2b9e04"
      },
      "execution_count": 60,
      "outputs": [
        {
          "output_type": "display_data",
          "data": {
            "text/plain": [
              "<IPython.core.display.Markdown object>"
            ],
            "text/markdown": "PIAIC's philosophy includes holding classes in the evenings or on weekends, keeping fees low, supplementing onsite classes with online content, and offering online classes for those who cannot attend onsite. Admissions are based on entry tests for Math and English capabilities, and students must choose a technical track. Additionally, all students are required to take the innovation track."
          },
          "metadata": {}
        }
      ]
    },
    {
      "cell_type": "code",
      "source": [
        "from IPython.display import Markdown\n",
        "response = rag_chain.invoke({\"input\" : \"What programs are being offered?\"})\n",
        "display(Markdown(response[\"answer\"]))"
      ],
      "metadata": {
        "colab": {
          "base_uri": "https://localhost:8080/",
          "height": 81
        },
        "id": "_nBwqmqJXVfR",
        "outputId": "ed0ce921-00f7-4c9e-91f5-875dacdc25ab"
      },
      "execution_count": 59,
      "outputs": [
        {
          "output_type": "display_data",
          "data": {
            "text/plain": [
              "<IPython.core.display.Markdown object>"
            ],
            "text/markdown": "The PIAIC offers technical training programs in Artificial Intelligence, Cloud Native Computing, Internet of Things, Blockchain, Quantum Computing, and 5G, Network Programmability, and Software Defined Networking. Additionally, Computational Genomics and 3D Printing programs are under development. These programs are designed to prepare students for the global market."
          },
          "metadata": {}
        }
      ]
    }
  ]
}