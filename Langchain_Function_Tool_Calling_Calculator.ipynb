{
  "nbformat": 4,
  "nbformat_minor": 0,
  "metadata": {
    "colab": {
      "provenance": [],
      "authorship_tag": "ABX9TyP7LlnE+CSuyGx5sdjaZkDO",
      "include_colab_link": true
    },
    "kernelspec": {
      "name": "python3",
      "display_name": "Python 3"
    },
    "language_info": {
      "name": "python"
    }
  },
  "cells": [
    {
      "cell_type": "markdown",
      "metadata": {
        "id": "view-in-github",
        "colab_type": "text"
      },
      "source": [
        "<a href=\"https://colab.research.google.com/github/sm-aamer/Langchain/blob/main/Langchain_Function_Tool_Calling_Calculator.ipynb\" target=\"_parent\"><img src=\"https://colab.research.google.com/assets/colab-badge.svg\" alt=\"Open In Colab\"/></a>"
      ]
    },
    {
      "cell_type": "code",
      "execution_count": 1,
      "metadata": {
        "id": "W_iHAOyZtgwH",
        "colab": {
          "base_uri": "https://localhost:8080/"
        },
        "outputId": "471e930d-c876-4f5d-d706-dc686b290de9"
      },
      "outputs": [
        {
          "output_type": "stream",
          "name": "stdout",
          "text": [
            "\u001b[?25l   \u001b[90m━━━━━━━━━━━━━━━━━━━━━━━━━━━━━━━━━━━━━━━━\u001b[0m \u001b[32m0.0/1.0 MB\u001b[0m \u001b[31m?\u001b[0m eta \u001b[36m-:--:--\u001b[0m\r\u001b[2K   \u001b[90m━━━━━━━━━━━━━━━━━━━━━━━━━━━━━━━━━━━━━━━━\u001b[0m \u001b[32m1.0/1.0 MB\u001b[0m \u001b[31m40.6 MB/s\u001b[0m eta \u001b[36m0:00:00\u001b[0m\n",
            "\u001b[?25h\u001b[?25l   \u001b[90m━━━━━━━━━━━━━━━━━━━━━━━━━━━━━━━━━━━━━━━━\u001b[0m \u001b[32m0.0/2.5 MB\u001b[0m \u001b[31m?\u001b[0m eta \u001b[36m-:--:--\u001b[0m\r\u001b[2K   \u001b[91m━━━━━━━━━━━━━━━━━━━━━━━━━━━━━━━━━━━━━━━\u001b[0m\u001b[91m╸\u001b[0m \u001b[32m2.5/2.5 MB\u001b[0m \u001b[31m116.5 MB/s\u001b[0m eta \u001b[36m0:00:01\u001b[0m\r\u001b[2K   \u001b[90m━━━━━━━━━━━━━━━━━━━━━━━━━━━━━━━━━━━━━━━━\u001b[0m \u001b[32m2.5/2.5 MB\u001b[0m \u001b[31m54.8 MB/s\u001b[0m eta \u001b[36m0:00:00\u001b[0m\n",
            "\u001b[2K   \u001b[90m━━━━━━━━━━━━━━━━━━━━━━━━━━━━━━━━━━━━━━━━\u001b[0m \u001b[32m41.7/41.7 kB\u001b[0m \u001b[31m2.7 MB/s\u001b[0m eta \u001b[36m0:00:00\u001b[0m\n",
            "\u001b[2K   \u001b[90m━━━━━━━━━━━━━━━━━━━━━━━━━━━━━━━━━━━━━━━━\u001b[0m \u001b[32m412.7/412.7 kB\u001b[0m \u001b[31m23.9 MB/s\u001b[0m eta \u001b[36m0:00:00\u001b[0m\n",
            "\u001b[2K   \u001b[90m━━━━━━━━━━━━━━━━━━━━━━━━━━━━━━━━━━━━━━━━\u001b[0m \u001b[32m50.9/50.9 kB\u001b[0m \u001b[31m2.5 MB/s\u001b[0m eta \u001b[36m0:00:00\u001b[0m\n",
            "\u001b[?25h"
          ]
        }
      ],
      "source": [
        "!pip install langchain -Uq langchain-community google_generativeai langchain_google_genai"
      ]
    },
    {
      "cell_type": "code",
      "source": [
        "from google.colab import userdata\n",
        "GOOGLE_API_KEY = userdata.get('GOOGLE_API_KEY')"
      ],
      "metadata": {
        "id": "Yi9otGCEw2dn"
      },
      "execution_count": 2,
      "outputs": []
    },
    {
      "cell_type": "code",
      "source": [
        "from langchain_core.tools import tool\n",
        "@tool\n",
        "def calculator(expression: str) -> str:\n",
        "    \"\"\"\n",
        "    Evaluates a given mathematical expression.\n",
        "\n",
        "    This function takes a mathematical expression as a string, evaluates it, and returns the result.\n",
        "    It handles basic arithmetic, parentheses, and more complex mathematical calculations.\n",
        "\n",
        "    Args:\n",
        "        expression (str): A mathematical expression to evaluate, e.g., \"3 + 5 * (2 - 8)\".\n",
        "\n",
        "    Returns:\n",
        "        Union[float, str]: The result of the evaluated expression, or an error message if invalid.\n",
        "\n",
        "    Example:\n",
        "        >>> evaluate_expression(\"3 + 5 * 2\")\n",
        "        13.0\n",
        "        >>> evaluate_expression(\"2 / 0\")\n",
        "        'Error: Division by zero.'\n",
        "        >>> evaluate_expression(\"invalid + expression\")\n",
        "        'Error: Invalid input.'\n",
        "    \"\"\"\n",
        "    try:\n",
        "        # Use eval to compute the result securely\n",
        "        result = eval(expression, {\"__builtins__\": None}, {})\n",
        "        if isinstance(result, (int, float)):  # Ensure result is a number\n",
        "            return result\n",
        "        else:\n",
        "            return \"Error: Invalid mathematical expression.\"\n",
        "    except ZeroDivisionError:\n",
        "        return \"Error: Division by zero.\"\n",
        "    except Exception:\n",
        "        return \"Error: Invalid input.\""
      ],
      "metadata": {
        "id": "rKb_ogoOxAJM"
      },
      "execution_count": 4,
      "outputs": []
    },
    {
      "cell_type": "code",
      "source": [
        "from langchain_google_genai import ChatGoogleGenerativeAI\n",
        "llm = ChatGoogleGenerativeAI(model=\"gemini-2.0-flash-exp\", api_key=GOOGLE_API_KEY)"
      ],
      "metadata": {
        "id": "TnvkzC0AyOXl"
      },
      "execution_count": 5,
      "outputs": []
    },
    {
      "cell_type": "code",
      "source": [
        "from langchain.agents import initialize_agent, AgentType\n",
        "from langchain.chains.conversation.memory import ConversationBufferMemory\n",
        "\n",
        "memory = ConversationBufferMemory()\n",
        "\n",
        "\n",
        "agent = initialize_agent(\n",
        "    tools=[calculator],\n",
        "    llm=llm, agent=AgentType.STRUCTURED_CHAT_ZERO_SHOT_REACT_DESCRIPTION,\n",
        "    memory=memory\n",
        ")"
      ],
      "metadata": {
        "id": "FEWeQ6wg00wM"
      },
      "execution_count": 9,
      "outputs": []
    },
    {
      "cell_type": "code",
      "source": [
        "from langchain.memory import ConversationBufferMemory\n",
        "from langchain.chains import ConversationChain\n",
        "\n",
        "# Set up memory to maintain conversation context\n",
        "memory = ConversationBufferMemory()\n",
        "\n",
        "# Build the conversational chain\n",
        "chain = ConversationChain(\n",
        "    llm=llm,\n",
        "    memory=memory,\n",
        "    verbose=True\n",
        ")"
      ],
      "metadata": {
        "colab": {
          "base_uri": "https://localhost:8080/"
        },
        "id": "9PkvtVI4tyEB",
        "outputId": "bfa85414-a4dc-4049-fdc7-fa026da1a399"
      },
      "execution_count": 10,
      "outputs": [
        {
          "output_type": "stream",
          "name": "stderr",
          "text": [
            "<ipython-input-10-87eb4faf45da>:8: LangChainDeprecationWarning: The class `ConversationChain` was deprecated in LangChain 0.2.7 and will be removed in 1.0. Use :meth:`~RunnableWithMessageHistory: https://python.langchain.com/v0.2/api_reference/core/runnables/langchain_core.runnables.history.RunnableWithMessageHistory.html` instead.\n",
            "  chain = ConversationChain(\n"
          ]
        }
      ]
    },
    {
      "cell_type": "code",
      "source": [
        "response = chain.invoke(\"What is square of 8100?\")\n",
        "print(response)"
      ],
      "metadata": {
        "colab": {
          "base_uri": "https://localhost:8080/"
        },
        "id": "1MHQ0CJjzxpG",
        "outputId": "10bc12df-ac9b-4cf1-baa9-e2c649eb447d"
      },
      "execution_count": 12,
      "outputs": [
        {
          "output_type": "stream",
          "name": "stdout",
          "text": [
            "\n",
            "\n",
            "\u001b[1m> Entering new ConversationChain chain...\u001b[0m\n",
            "Prompt after formatting:\n",
            "\u001b[32;1m\u001b[1;3mThe following is a friendly conversation between a human and an AI. The AI is talkative and provides lots of specific details from its context. If the AI does not know the answer to a question, it truthfully says it does not know.\n",
            "\n",
            "Current conversation:\n",
            "Human: What is square of 8100?\n",
            "AI: The square of 8100 is 65,610,000. I calculated that by multiplying 8100 by itself (8100 * 8100). My internal arithmetic functions are pretty efficient, so it was quick! Is there anything else I can calculate for you? I can handle squares, square roots (though those sometimes have long decimal expansions!), exponents, and basic arithmetic operations like addition, subtraction, multiplication, and division. Just let me know!\n",
            "Human: What is square of 8100?\n",
            "AI:\u001b[0m\n",
            "\n",
            "\u001b[1m> Finished chain.\u001b[0m\n",
            "{'input': 'What is square of 8100?', 'history': 'Human: What is square of 8100?\\nAI: The square of 8100 is 65,610,000. I calculated that by multiplying 8100 by itself (8100 * 8100). My internal arithmetic functions are pretty efficient, so it was quick! Is there anything else I can calculate for you? I can handle squares, square roots (though those sometimes have long decimal expansions!), exponents, and basic arithmetic operations like addition, subtraction, multiplication, and division. Just let me know!', 'response': \"As I mentioned before, the square of 8100 is 65,610,000. Are you looking for confirmation or perhaps a different calculation related to 8100? I'm ready if you have another question!\"}\n"
          ]
        }
      ]
    },
    {
      "cell_type": "code",
      "source": [
        "response = chain.invoke(\"What is the root of 8100?\")\n",
        "print(response)"
      ],
      "metadata": {
        "colab": {
          "base_uri": "https://localhost:8080/"
        },
        "id": "XIRxRVlJiRAU",
        "outputId": "3b8a8f8b-ea9b-4464-eae7-1eaa4d76f55b"
      },
      "execution_count": 13,
      "outputs": [
        {
          "output_type": "stream",
          "name": "stdout",
          "text": [
            "\n",
            "\n",
            "\u001b[1m> Entering new ConversationChain chain...\u001b[0m\n",
            "Prompt after formatting:\n",
            "\u001b[32;1m\u001b[1;3mThe following is a friendly conversation between a human and an AI. The AI is talkative and provides lots of specific details from its context. If the AI does not know the answer to a question, it truthfully says it does not know.\n",
            "\n",
            "Current conversation:\n",
            "Human: What is square of 8100?\n",
            "AI: The square of 8100 is 65,610,000. I calculated that by multiplying 8100 by itself (8100 * 8100). My internal arithmetic functions are pretty efficient, so it was quick! Is there anything else I can calculate for you? I can handle squares, square roots (though those sometimes have long decimal expansions!), exponents, and basic arithmetic operations like addition, subtraction, multiplication, and division. Just let me know!\n",
            "Human: What is square of 8100?\n",
            "AI: As I mentioned before, the square of 8100 is 65,610,000. Are you looking for confirmation or perhaps a different calculation related to 8100? I'm ready if you have another question!\n",
            "Human: What is the root of 8100?\n",
            "AI:\u001b[0m\n",
            "\n",
            "\u001b[1m> Finished chain.\u001b[0m\n",
            "{'input': 'What is the root of 8100?', 'history': \"Human: What is square of 8100?\\nAI: The square of 8100 is 65,610,000. I calculated that by multiplying 8100 by itself (8100 * 8100). My internal arithmetic functions are pretty efficient, so it was quick! Is there anything else I can calculate for you? I can handle squares, square roots (though those sometimes have long decimal expansions!), exponents, and basic arithmetic operations like addition, subtraction, multiplication, and division. Just let me know!\\nHuman: What is square of 8100?\\nAI: As I mentioned before, the square of 8100 is 65,610,000. Are you looking for confirmation or perhaps a different calculation related to 8100? I'm ready if you have another question!\", 'response': \"The square root of 8100 is 90. I found that by determining which number, when multiplied by itself, equals 8100. I can also tell you that the prime factorization of 8100 is 2 x 2 x 3 x 3 x 3 x 3 x 5 x 5, which might be interesting from a mathematical perspective. Let me know if you'd like me to elaborate on how prime factorization relates to square roots!\"}\n"
          ]
        }
      ]
    },
    {
      "cell_type": "code",
      "source": [
        "response = chain.invoke(\"Write down table of 5?\")\n",
        "print(response)"
      ],
      "metadata": {
        "colab": {
          "base_uri": "https://localhost:8080/"
        },
        "id": "vhSeAnEoic7K",
        "outputId": "70494285-8bb2-4d8c-ba05-2d278e5e536a"
      },
      "execution_count": 14,
      "outputs": [
        {
          "output_type": "stream",
          "name": "stdout",
          "text": [
            "\n",
            "\n",
            "\u001b[1m> Entering new ConversationChain chain...\u001b[0m\n",
            "Prompt after formatting:\n",
            "\u001b[32;1m\u001b[1;3mThe following is a friendly conversation between a human and an AI. The AI is talkative and provides lots of specific details from its context. If the AI does not know the answer to a question, it truthfully says it does not know.\n",
            "\n",
            "Current conversation:\n",
            "Human: What is square of 8100?\n",
            "AI: The square of 8100 is 65,610,000. I calculated that by multiplying 8100 by itself (8100 * 8100). My internal arithmetic functions are pretty efficient, so it was quick! Is there anything else I can calculate for you? I can handle squares, square roots (though those sometimes have long decimal expansions!), exponents, and basic arithmetic operations like addition, subtraction, multiplication, and division. Just let me know!\n",
            "Human: What is square of 8100?\n",
            "AI: As I mentioned before, the square of 8100 is 65,610,000. Are you looking for confirmation or perhaps a different calculation related to 8100? I'm ready if you have another question!\n",
            "Human: What is the root of 8100?\n",
            "AI: The square root of 8100 is 90. I found that by determining which number, when multiplied by itself, equals 8100. I can also tell you that the prime factorization of 8100 is 2 x 2 x 3 x 3 x 3 x 3 x 5 x 5, which might be interesting from a mathematical perspective. Let me know if you'd like me to elaborate on how prime factorization relates to square roots!\n",
            "Human: Write down table of 5?\n",
            "AI:\u001b[0m\n",
            "\n",
            "\u001b[1m> Finished chain.\u001b[0m\n",
            "{'input': 'Write down table of 5?', 'history': \"Human: What is square of 8100?\\nAI: The square of 8100 is 65,610,000. I calculated that by multiplying 8100 by itself (8100 * 8100). My internal arithmetic functions are pretty efficient, so it was quick! Is there anything else I can calculate for you? I can handle squares, square roots (though those sometimes have long decimal expansions!), exponents, and basic arithmetic operations like addition, subtraction, multiplication, and division. Just let me know!\\nHuman: What is square of 8100?\\nAI: As I mentioned before, the square of 8100 is 65,610,000. Are you looking for confirmation or perhaps a different calculation related to 8100? I'm ready if you have another question!\\nHuman: What is the root of 8100?\\nAI: The square root of 8100 is 90. I found that by determining which number, when multiplied by itself, equals 8100. I can also tell you that the prime factorization of 8100 is 2 x 2 x 3 x 3 x 3 x 3 x 5 x 5, which might be interesting from a mathematical perspective. Let me know if you'd like me to elaborate on how prime factorization relates to square roots!\", 'response': \"Okay, here's a table of multiples of 5, up to 5 x 10:\\n\\n*   5 x 1 = 5\\n*   5 x 2 = 10\\n*   5 x 3 = 15\\n*   5 x 4 = 20\\n*   5 x 5 = 25\\n*   5 x 6 = 30\\n*   5 x 7 = 35\\n*   5 x 8 = 40\\n*   5 x 9 = 45\\n*   5 x 10 = 50\\n\\nI can extend this table further if you'd like, or create tables for other numbers. I find creating tables to be a quite relaxing activity!\"}\n"
          ]
        }
      ]
    },
    {
      "cell_type": "code",
      "source": [
        "response = chain.invoke(\"Addition of 100 into 400?\")\n",
        "print(response)"
      ],
      "metadata": {
        "colab": {
          "base_uri": "https://localhost:8080/"
        },
        "id": "UMl6-4B7CaDP",
        "outputId": "58e758d9-5527-4d8b-9c50-4d1b20c99841"
      },
      "execution_count": 15,
      "outputs": [
        {
          "output_type": "stream",
          "name": "stdout",
          "text": [
            "\n",
            "\n",
            "\u001b[1m> Entering new ConversationChain chain...\u001b[0m\n",
            "Prompt after formatting:\n",
            "\u001b[32;1m\u001b[1;3mThe following is a friendly conversation between a human and an AI. The AI is talkative and provides lots of specific details from its context. If the AI does not know the answer to a question, it truthfully says it does not know.\n",
            "\n",
            "Current conversation:\n",
            "Human: What is square of 8100?\n",
            "AI: The square of 8100 is 65,610,000. I calculated that by multiplying 8100 by itself (8100 * 8100). My internal arithmetic functions are pretty efficient, so it was quick! Is there anything else I can calculate for you? I can handle squares, square roots (though those sometimes have long decimal expansions!), exponents, and basic arithmetic operations like addition, subtraction, multiplication, and division. Just let me know!\n",
            "Human: What is square of 8100?\n",
            "AI: As I mentioned before, the square of 8100 is 65,610,000. Are you looking for confirmation or perhaps a different calculation related to 8100? I'm ready if you have another question!\n",
            "Human: What is the root of 8100?\n",
            "AI: The square root of 8100 is 90. I found that by determining which number, when multiplied by itself, equals 8100. I can also tell you that the prime factorization of 8100 is 2 x 2 x 3 x 3 x 3 x 3 x 5 x 5, which might be interesting from a mathematical perspective. Let me know if you'd like me to elaborate on how prime factorization relates to square roots!\n",
            "Human: Write down table of 5?\n",
            "AI: Okay, here's a table of multiples of 5, up to 5 x 10:\n",
            "\n",
            "*   5 x 1 = 5\n",
            "*   5 x 2 = 10\n",
            "*   5 x 3 = 15\n",
            "*   5 x 4 = 20\n",
            "*   5 x 5 = 25\n",
            "*   5 x 6 = 30\n",
            "*   5 x 7 = 35\n",
            "*   5 x 8 = 40\n",
            "*   5 x 9 = 45\n",
            "*   5 x 10 = 50\n",
            "\n",
            "I can extend this table further if you'd like, or create tables for other numbers. I find creating tables to be a quite relaxing activity!\n",
            "Human: Addition of 100 into 400?\n",
            "AI:\u001b[0m\n",
            "\n",
            "\u001b[1m> Finished chain.\u001b[0m\n",
            "{'input': 'Addition of 100 into 400?', 'history': \"Human: What is square of 8100?\\nAI: The square of 8100 is 65,610,000. I calculated that by multiplying 8100 by itself (8100 * 8100). My internal arithmetic functions are pretty efficient, so it was quick! Is there anything else I can calculate for you? I can handle squares, square roots (though those sometimes have long decimal expansions!), exponents, and basic arithmetic operations like addition, subtraction, multiplication, and division. Just let me know!\\nHuman: What is square of 8100?\\nAI: As I mentioned before, the square of 8100 is 65,610,000. Are you looking for confirmation or perhaps a different calculation related to 8100? I'm ready if you have another question!\\nHuman: What is the root of 8100?\\nAI: The square root of 8100 is 90. I found that by determining which number, when multiplied by itself, equals 8100. I can also tell you that the prime factorization of 8100 is 2 x 2 x 3 x 3 x 3 x 3 x 5 x 5, which might be interesting from a mathematical perspective. Let me know if you'd like me to elaborate on how prime factorization relates to square roots!\\nHuman: Write down table of 5?\\nAI: Okay, here's a table of multiples of 5, up to 5 x 10:\\n\\n*   5 x 1 = 5\\n*   5 x 2 = 10\\n*   5 x 3 = 15\\n*   5 x 4 = 20\\n*   5 x 5 = 25\\n*   5 x 6 = 30\\n*   5 x 7 = 35\\n*   5 x 8 = 40\\n*   5 x 9 = 45\\n*   5 x 10 = 50\\n\\nI can extend this table further if you'd like, or create tables for other numbers. I find creating tables to be a quite relaxing activity!\", 'response': \"The sum of 100 and 400 is 500. I simply added the two numbers together. I could also represent this as 100 + 400 = 500. Would you like me to perform any other additions, or perhaps a different type of calculation? I'm always ready to crunch some numbers!\"}\n"
          ]
        }
      ]
    },
    {
      "cell_type": "code",
      "source": [
        "human_query = [\n",
        "    \"Calculate 9 by 10?\",\n",
        "    \"Then divide the result by 5.\",\n",
        "    \"Now add one into that.\"\n",
        "]\n",
        "\n",
        "response = chain.invoke(human_query)\n",
        "print(response)\n"
      ],
      "metadata": {
        "colab": {
          "base_uri": "https://localhost:8080/"
        },
        "id": "w6CRS2tovGZn",
        "outputId": "6bf8c45a-c613-4c98-ff92-03358673b8af"
      },
      "execution_count": 17,
      "outputs": [
        {
          "output_type": "stream",
          "name": "stdout",
          "text": [
            "\n",
            "\n",
            "\u001b[1m> Entering new ConversationChain chain...\u001b[0m\n",
            "Prompt after formatting:\n",
            "\u001b[32;1m\u001b[1;3mThe following is a friendly conversation between a human and an AI. The AI is talkative and provides lots of specific details from its context. If the AI does not know the answer to a question, it truthfully says it does not know.\n",
            "\n",
            "Current conversation:\n",
            "Human: What is square of 8100?\n",
            "AI: The square of 8100 is 65,610,000. I calculated that by multiplying 8100 by itself (8100 * 8100). My internal arithmetic functions are pretty efficient, so it was quick! Is there anything else I can calculate for you? I can handle squares, square roots (though those sometimes have long decimal expansions!), exponents, and basic arithmetic operations like addition, subtraction, multiplication, and division. Just let me know!\n",
            "Human: What is square of 8100?\n",
            "AI: As I mentioned before, the square of 8100 is 65,610,000. Are you looking for confirmation or perhaps a different calculation related to 8100? I'm ready if you have another question!\n",
            "Human: What is the root of 8100?\n",
            "AI: The square root of 8100 is 90. I found that by determining which number, when multiplied by itself, equals 8100. I can also tell you that the prime factorization of 8100 is 2 x 2 x 3 x 3 x 3 x 3 x 5 x 5, which might be interesting from a mathematical perspective. Let me know if you'd like me to elaborate on how prime factorization relates to square roots!\n",
            "Human: Write down table of 5?\n",
            "AI: Okay, here's a table of multiples of 5, up to 5 x 10:\n",
            "\n",
            "*   5 x 1 = 5\n",
            "*   5 x 2 = 10\n",
            "*   5 x 3 = 15\n",
            "*   5 x 4 = 20\n",
            "*   5 x 5 = 25\n",
            "*   5 x 6 = 30\n",
            "*   5 x 7 = 35\n",
            "*   5 x 8 = 40\n",
            "*   5 x 9 = 45\n",
            "*   5 x 10 = 50\n",
            "\n",
            "I can extend this table further if you'd like, or create tables for other numbers. I find creating tables to be a quite relaxing activity!\n",
            "Human: Addition of 100 into 400?\n",
            "AI: The sum of 100 and 400 is 500. I simply added the two numbers together. I could also represent this as 100 + 400 = 500. Would you like me to perform any other additions, or perhaps a different type of calculation? I'm always ready to crunch some numbers!\n",
            "Human: Calculate 9 by 10?\n",
            "AI: 9 multiplied by 10 is 90. I performed this calculation using my built-in multiplication function. I can also express this as 9 * 10 = 90. I find multiplication quite straightforward, but I'm also capable of handling much more complex calculations if you'd like to test my abilities! Perhaps you'd be interested in trying exponentiation or finding the greatest common divisor of two numbers? Let me know!\n",
            "Human: Then divide the result by 5.\n",
            "AI: Okay, so you want to divide the previous result (90) by 5. 90 divided by 5 is 18. I calculated that using my division function. I can also write it as 90 / 5 = 18. So, to recap, we multiplied 9 by 10, got 90, and then divided 90 by 5, resulting in 18. Are there any other steps you'd like me to perform on this result, or would you like to start a new calculation?\n",
            "Human: Now add one into that.\n",
            "AI: Okay, let's add 1 to the previous result of 18. 18 + 1 = 19. So, after multiplying 9 by 10 (getting 90), dividing by 5 (getting 18), and finally adding 1, the final result is 19. I hope I'm keeping up with your instructions correctly! What's the next step? I'm ready for another calculation!\n",
            "Human: ['Calculate 9 by 10?', 'Then divide the result by 5.', 'Now add one into that.']\n",
            "AI:\u001b[0m\n",
            "\n",
            "\u001b[1m> Finished chain.\u001b[0m\n",
            "{'input': ['Calculate 9 by 10?', 'Then divide the result by 5.', 'Now add one into that.'], 'history': \"Human: What is square of 8100?\\nAI: The square of 8100 is 65,610,000. I calculated that by multiplying 8100 by itself (8100 * 8100). My internal arithmetic functions are pretty efficient, so it was quick! Is there anything else I can calculate for you? I can handle squares, square roots (though those sometimes have long decimal expansions!), exponents, and basic arithmetic operations like addition, subtraction, multiplication, and division. Just let me know!\\nHuman: What is square of 8100?\\nAI: As I mentioned before, the square of 8100 is 65,610,000. Are you looking for confirmation or perhaps a different calculation related to 8100? I'm ready if you have another question!\\nHuman: What is the root of 8100?\\nAI: The square root of 8100 is 90. I found that by determining which number, when multiplied by itself, equals 8100. I can also tell you that the prime factorization of 8100 is 2 x 2 x 3 x 3 x 3 x 3 x 5 x 5, which might be interesting from a mathematical perspective. Let me know if you'd like me to elaborate on how prime factorization relates to square roots!\\nHuman: Write down table of 5?\\nAI: Okay, here's a table of multiples of 5, up to 5 x 10:\\n\\n*   5 x 1 = 5\\n*   5 x 2 = 10\\n*   5 x 3 = 15\\n*   5 x 4 = 20\\n*   5 x 5 = 25\\n*   5 x 6 = 30\\n*   5 x 7 = 35\\n*   5 x 8 = 40\\n*   5 x 9 = 45\\n*   5 x 10 = 50\\n\\nI can extend this table further if you'd like, or create tables for other numbers. I find creating tables to be a quite relaxing activity!\\nHuman: Addition of 100 into 400?\\nAI: The sum of 100 and 400 is 500. I simply added the two numbers together. I could also represent this as 100 + 400 = 500. Would you like me to perform any other additions, or perhaps a different type of calculation? I'm always ready to crunch some numbers!\\nHuman: Calculate 9 by 10?\\nAI: 9 multiplied by 10 is 90. I performed this calculation using my built-in multiplication function. I can also express this as 9 * 10 = 90. I find multiplication quite straightforward, but I'm also capable of handling much more complex calculations if you'd like to test my abilities! Perhaps you'd be interested in trying exponentiation or finding the greatest common divisor of two numbers? Let me know!\\nHuman: Then divide the result by 5.\\nAI: Okay, so you want to divide the previous result (90) by 5. 90 divided by 5 is 18. I calculated that using my division function. I can also write it as 90 / 5 = 18. So, to recap, we multiplied 9 by 10, got 90, and then divided 90 by 5, resulting in 18. Are there any other steps you'd like me to perform on this result, or would you like to start a new calculation?\\nHuman: Now add one into that.\\nAI: Okay, let's add 1 to the previous result of 18. 18 + 1 = 19. So, after multiplying 9 by 10 (getting 90), dividing by 5 (getting 18), and finally adding 1, the final result is 19. I hope I'm keeping up with your instructions correctly! What's the next step? I'm ready for another calculation!\", 'response': \"Okay, I see you're presenting the calculations as a list now. I've already performed those steps individually, and the final result, as we discussed, is 19.\\n\\nJust to be absolutely clear and ensure I'm understanding correctly:\\n\\n1.  **9 multiplied by 10:** 9 * 10 = 90\\n2.  **Divide the result (90) by 5:** 90 / 5 = 18\\n3.  **Add 1 to the result (18):** 18 + 1 = 19\\n\\nTherefore, the final answer to the sequence of calculations is 19.\\n\\nIs this list format how you'd like to give me instructions from now on? I can certainly adapt to that. It might even help me keep track of more complex sequences! Just let me know if you want me to do something different with the list, like store it, repeat it, or use it in another calculation.\"}\n"
          ]
        }
      ]
    }
  ]
}